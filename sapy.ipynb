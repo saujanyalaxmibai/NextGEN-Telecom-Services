{
 "cells": [
  {
   "cell_type": "code",
   "execution_count": 3,
   "id": "70db973d-5761-4154-af5f-3d69c2a04a9b",
   "metadata": {},
   "outputs": [],
   "source": [
    "import pandas as pd\n",
    "import numpy as np\n",
    "from sklearn.preprocessing import LabelEncoder, MinMaxScaler"
   ]
  },
  {
   "cell_type": "code",
   "execution_count": 26,
   "id": "3c591f99-4826-4196-a022-3141335b86c4",
   "metadata": {},
   "outputs": [],
   "source": [
    "def load_data(file_path):\n",
    "    df = pd.read_csv(file_path)\n",
    "    \n",
    "    df_computation = df.copy()\n",
    "\n",
    "    if 'Customer ID' in df_computation.columns:\n",
    "        df_computation.drop('Customer ID', axis=1, inplace=True)\n",
    "    \n",
    "    numeric_cols = df_computation.select_dtypes(include=[np.number]).columns\n",
    "    categorical_cols = df_computation.select_dtypes(include=['object']).columns\n",
    "    \n",
    "    df_computation[numeric_cols] = df_computation[numeric_cols].fillna(df_computation[numeric_cols].mean())\n",
    "    \n",
    "    for col in categorical_cols:\n",
    "        df_computation[col].fillna(df_computation[col].mode()[0], inplace=True)\n",
    "    \n",
    "    return df, df_computation"
   ]
  },
  {
   "cell_type": "code",
   "execution_count": 7,
   "id": "b83562c6-1df6-418a-a61f-7b9a6a4e310d",
   "metadata": {},
   "outputs": [],
   "source": [
    "def quantify_preferences(df):\n",
    "    df['Pref_Comm_Channel'] = df['Preferred Communication Channel'].map({'Email': 1, 'Phone': 2, 'SMS': 3})\n",
    "    df['Pref_Comm_Time'] = df['Preferred Communication Time'].map({'Morning': 1, 'Afternoon': 2, 'Evening': 3, 'Anytime': 4})\n",
    "    df['Pref_Services_Features'] = df['Preferred Services/Features'].map({'International Calling': 1, 'Data Rollover': 2, 'Family Plan': 3})\n",
    "    df['Pref_Payment_Method'] = df['Preferred Payment Method'].map({'Bank Transfer': 1, 'Debit Card': 2, 'Online': 3, 'Credit Card': 4})\n",
    "    \n",
    "    df.drop(['Preferred Communication Channel', 'Preferred Communication Time', 'Preferred Services/Features', 'Preferred Payment Method'], axis=1, inplace=True)\n",
    "    \n",
    "    return df"
   ]
  },
  {
   "cell_type": "code",
   "execution_count": 8,
   "id": "e659abc2-4f79-494f-a3a5-d7c1ac968754",
   "metadata": {},
   "outputs": [],
   "source": [
    "def normalize_data(df):\n",
    "    scaler = MinMaxScaler()\n",
    "    df[df.select_dtypes(include=[np.number]).columns] = scaler.fit_transform(df.select_dtypes(include=[np.number]))\n",
    "    return df"
   ]
  },
  {
   "cell_type": "code",
   "execution_count": 9,
   "id": "1d9ee451-0a4a-4846-bcae-4f91613c1bce",
   "metadata": {},
   "outputs": [],
   "source": [
    "def topsis_with_preferences(df, non_pref_criteria, weights):\n",
    "    df_normalized = df[non_pref_criteria] / np.sqrt((df[non_pref_criteria]**2).sum())\n",
    "    \n",
    "    df_weighted = df_normalized * weights\n",
    "    \n",
    "    ideal_solution = df_weighted.max()\n",
    "    negative_ideal_solution = df_weighted.min()\n",
    "    \n",
    "    df['distance_to_ideal'] = np.sqrt(((df_weighted - ideal_solution) ** 2).sum(axis=1))\n",
    "    df['distance_to_negative_ideal'] = np.sqrt(((df_weighted - negative_ideal_solution) ** 2).sum(axis=1))\n",
    "    \n",
    "    df['relative_closeness'] = df['distance_to_negative_ideal'] / (df['distance_to_negative_ideal'] + df['distance_to_ideal'])\n",
    "    \n",
    "    df['rank'] = df['relative_closeness'].rank(ascending=False)\n",
    "    \n",
    "    return df"
   ]
  },
  {
   "cell_type": "code",
   "execution_count": 10,
   "id": "3405db1c-896c-4234-85af-f4b772d15265",
   "metadata": {},
   "outputs": [],
   "source": [
    "def decision_making_with_preferences(df, non_pref_criteria, weights):\n",
    "    df_ranked = topsis_with_preferences(df, non_pref_criteria, weights)\n",
    "    \n",
    "    num_plans = 4\n",
    "    df_ranked['BestService'] = pd.cut(df_ranked['rank'], bins=num_plans, labels=False, include_lowest=True)\n",
    "    \n",
    "    service_names = {0: 'Basic Plan', 1: 'Standard Plan', 2: 'Premium Plan', 3: 'Ultimate Plan'}\n",
    "    df_ranked['BestServiceName'] = df_ranked['BestService'].map(service_names)\n",
    "    \n",
    "    return df_ranked"
   ]
  },
  {
   "cell_type": "code",
   "execution_count": 11,
   "id": "7f2a3bb8-9f1c-488c-aa12-97ec606d34ac",
   "metadata": {},
   "outputs": [],
   "source": [
    "non_pref_criteria = ['Data Usage (GB)', 'Voice Minutes Usage', 'SMS Usage']\n",
    "weights = [0.3, 0.3, 0.4]  "
   ]
  },
  {
   "cell_type": "code",
   "execution_count": 12,
   "id": "02af3ca7-4ebe-4cf5-a720-46d0954ba633",
   "metadata": {},
   "outputs": [
    {
     "name": "stderr",
     "output_type": "stream",
     "text": [
      "C:\\Users\\syedf\\AppData\\Local\\Temp\\ipykernel_12400\\3500179646.py:18: FutureWarning: A value is trying to be set on a copy of a DataFrame or Series through chained assignment using an inplace method.\n",
      "The behavior will change in pandas 3.0. This inplace method will never work because the intermediate object on which we are setting values always behaves as a copy.\n",
      "\n",
      "For example, when doing 'df[col].method(value, inplace=True)', try using 'df.method({col: value}, inplace=True)' or df[col] = df[col].method(value) instead, to perform the operation inplace on the original object.\n",
      "\n",
      "\n",
      "  df[col].fillna(df[col].mode()[0], inplace=True)\n"
     ]
    }
   ],
   "source": [
    "df = load_data('dataset.csv')\n",
    "df = quantify_preferences(df)\n",
    "df = normalize_data(df)"
   ]
  },
  {
   "cell_type": "code",
   "execution_count": 13,
   "id": "20d4a3d0-be61-48d0-af5f-2bf8dffb69cd",
   "metadata": {},
   "outputs": [],
   "source": [
    "df_ranked = decision_making_with_preferences(df, non_pref_criteria, weights)"
   ]
  },
  {
   "cell_type": "code",
   "execution_count": 14,
   "id": "12fe7474-cd71-460d-bf31-14cd6ad73ed8",
   "metadata": {},
   "outputs": [
    {
     "name": "stdout",
     "output_type": "stream",
     "text": [
      "   BestService BestServiceName\n",
      "0            1   Standard Plan\n",
      "1            1   Standard Plan\n",
      "2            3   Ultimate Plan\n",
      "3            2    Premium Plan\n",
      "4            0      Basic Plan\n"
     ]
    }
   ],
   "source": [
    "print(df_ranked[['BestService', 'BestServiceName']].head())"
   ]
  },
  {
   "cell_type": "code",
   "execution_count": 15,
   "id": "f9c615b1-db08-4ab4-800a-bb698de41ce0",
   "metadata": {},
   "outputs": [
    {
     "name": "stdout",
     "output_type": "stream",
     "text": [
      "   BestService BestServiceName\n",
      "0            1   Standard Plan\n",
      "1            1   Standard Plan\n",
      "2            3   Ultimate Plan\n",
      "3            2    Premium Plan\n",
      "4            0      Basic Plan\n"
     ]
    }
   ],
   "source": [
    "print(df_ranked[['BestService', 'BestServiceName']].head())"
   ]
  },
  {
   "cell_type": "code",
   "execution_count": 16,
   "id": "b5c88584-70af-442d-ab26-4696d11c29e9",
   "metadata": {},
   "outputs": [],
   "source": [
    "def save_predicted_plans(df_original, df_ranked, output_file='plans_dataset.csv'):\n",
    "    columns_to_save = ['Customer ID', 'Age', 'Gender', 'Location', 'Education Level', 'BestServiceName']\n",
    "    \n",
    "    df_plans = pd.concat([df_original[['Customer ID', 'Age', 'Gender', 'Location', 'Education Level']], df_ranked['BestServiceName']], axis=1)\n",
    "    \n",
    "    df_plans.to_csv(output_file, index=False)\n",
    "    print(f\"Predicted plans dataset saved to {output_file}\")"
   ]
  },
  {
   "cell_type": "code",
   "execution_count": 29,
   "id": "3ba5848e",
   "metadata": {},
   "outputs": [],
   "source": [
    "def save_predicted_plans(df_original, df_ranked, output_file='plans_dataset.csv'):\n",
    "    columns_to_save = ['Customer ID', 'Age', 'Gender', 'Location', 'Education Level',  'BestServiceName']\n",
    "    \n",
    "    df_plans = pd.concat([df_original[['Customer ID', 'Age', 'Gender', 'Location', 'Education Level']], df_ranked['BestServiceName']], axis=1)\n",
    "    \n",
    "    df_plans.to_csv(output_file, index=False)\n",
    "    print(f\"Predicted plans dataset saved to {output_file}\")"
   ]
  },
  {
   "cell_type": "code",
   "execution_count": 30,
   "id": "aa5d711a",
   "metadata": {},
   "outputs": [],
   "source": [
    "def process_and_save_predictions(file_path):\n",
    "    df_original, df_computation = load_data(file_path)\n",
    "    \n",
    "    df = quantify_preferences(df_computation)\n",
    "    \n",
    "    df = normalize_data(df)\n",
    "    \n",
    "    non_pref_criteria = ['Pref_Comm_Channel', 'Pref_Comm_Time', 'Pref_Services_Features', 'Pref_Payment_Method']\n",
    "    weights = [0.3, 0.3, 0.4,0.3]  \n",
    "    df_ranked = decision_making_with_preferences(df, non_pref_criteria, weights)\n",
    "    \n",
    "    save_predicted_plans(df_original, df_ranked)"
   ]
  },
  {
   "cell_type": "code",
   "execution_count": 31,
   "id": "48202503",
   "metadata": {},
   "outputs": [
    {
     "name": "stdout",
     "output_type": "stream",
     "text": [
      "Predicted plans dataset saved to plans_dataset.csv\n"
     ]
    },
    {
     "name": "stderr",
     "output_type": "stream",
     "text": [
      "C:\\Users\\syedf\\AppData\\Local\\Temp\\ipykernel_12400\\1379145060.py:20: FutureWarning: A value is trying to be set on a copy of a DataFrame or Series through chained assignment using an inplace method.\n",
      "The behavior will change in pandas 3.0. This inplace method will never work because the intermediate object on which we are setting values always behaves as a copy.\n",
      "\n",
      "For example, when doing 'df[col].method(value, inplace=True)', try using 'df.method({col: value}, inplace=True)' or df[col] = df[col].method(value) instead, to perform the operation inplace on the original object.\n",
      "\n",
      "\n",
      "  df_computation[col].fillna(df_computation[col].mode()[0], inplace=True)\n"
     ]
    }
   ],
   "source": [
    "process_and_save_predictions('dataset.csv')"
   ]
  },
  {
   "cell_type": "code",
   "execution_count": null,
   "id": "645465c4",
   "metadata": {},
   "outputs": [],
   "source": []
  }
 ],
 "metadata": {
  "kernelspec": {
   "display_name": "Python 3 (ipykernel)",
   "language": "python",
   "name": "python3"
  },
  "language_info": {
   "codemirror_mode": {
    "name": "ipython",
    "version": 3
   },
   "file_extension": ".py",
   "mimetype": "text/x-python",
   "name": "python",
   "nbconvert_exporter": "python",
   "pygments_lexer": "ipython3",
   "version": "3.12.4"
  }
 },
 "nbformat": 4,
 "nbformat_minor": 5
}

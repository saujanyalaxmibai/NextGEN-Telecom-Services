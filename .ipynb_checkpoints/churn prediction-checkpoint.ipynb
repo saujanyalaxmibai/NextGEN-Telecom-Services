{
 "cells": [
  {
   "cell_type": "code",
   "execution_count": 1,
   "id": "374dfaeb-4acb-4bc8-9240-ab393ac3a017",
   "metadata": {},
   "outputs": [
    {
     "ename": "ModuleNotFoundError",
     "evalue": "No module named 'tensorflow'",
     "output_type": "error",
     "traceback": [
      "\u001b[1;31m---------------------------------------------------------------------------\u001b[0m",
      "\u001b[1;31mModuleNotFoundError\u001b[0m                       Traceback (most recent call last)",
      "Cell \u001b[1;32mIn[1], line 2\u001b[0m\n\u001b[0;32m      1\u001b[0m \u001b[38;5;28;01mimport\u001b[39;00m \u001b[38;5;21;01mnumpy\u001b[39;00m \u001b[38;5;28;01mas\u001b[39;00m \u001b[38;5;21;01mnp\u001b[39;00m\n\u001b[1;32m----> 2\u001b[0m \u001b[38;5;28;01mimport\u001b[39;00m \u001b[38;5;21;01mtensorflow\u001b[39;00m \u001b[38;5;28;01mas\u001b[39;00m \u001b[38;5;21;01mtf\u001b[39;00m\n\u001b[0;32m      3\u001b[0m \u001b[38;5;28;01mimport\u001b[39;00m \u001b[38;5;21;01mpandas\u001b[39;00m \u001b[38;5;28;01mas\u001b[39;00m \u001b[38;5;21;01mpd\u001b[39;00m\n\u001b[0;32m      4\u001b[0m \u001b[38;5;28;01mfrom\u001b[39;00m \u001b[38;5;21;01msklearn\u001b[39;00m\u001b[38;5;21;01m.\u001b[39;00m\u001b[38;5;21;01mpreprocessing\u001b[39;00m \u001b[38;5;28;01mimport\u001b[39;00m StandardScaler\n",
      "\u001b[1;31mModuleNotFoundError\u001b[0m: No module named 'tensorflow'"
     ]
    }
   ],
   "source": [
    "import numpy as np\n",
    "import tensorflow as tf\n",
    "import pandas as pd\n",
    "from sklearn.preprocessing import StandardScaler\n",
    "from sklearn.model_selection import train_test_split\n",
    "from sklearn.metrics import accuracy_score, confusion_matrix\n",
    "from tensorflow.keras.models import Sequential\n",
    "from tensorflow.keras.layers import Dense, LSTM\n",
    "from tensorflow.keras.optimizers import Adam"
   ]
  },
  {
   "cell_type": "code",
   "execution_count": null,
   "id": "03c9976a-87a0-4b8a-b7e9-57f0debed106",
   "metadata": {},
   "outputs": [],
   "source": [
    "# Butterfly Optimization Algorithm (BOA) with Brownian Motion for Feature Selection\n",
    "class ButterflyOptimizationAlgorithm:\n",
    "    def __init__(self, fitness_function, pop_size=20, max_iter=100, a=0.01, c=0.1):\n",
    "        self.fitness_function = fitness_function\n",
    "        self.pop_size = pop_size\n",
    "        self.max_iter = max_iter\n",
    "        self.a = a\n",
    "        self.c = c\n",
    "        self.population = None\n",
    "        self.best_solution = None\n",
    "        self.best_fitness = -np.inf\n",
    "\n",
    "    def initialize_population(self, dim):\n",
    "        self.population = np.random.rand(self.pop_size, dim)\n",
    "\n",
    "    def optimize(self, dim):\n",
    "        self.initialize_population(dim)\n",
    "        for iter in range(self.max_iter):\n",
    "            for i in range(self.pop_size):\n",
    "                new_solution = self.population[i] + np.random.normal(0, 1, dim) * self.a\n",
    "                new_fitness = self.fitness_function(new_solution)\n",
    "                if new_fitness > self.best_fitness:\n",
    "                    self.best_fitness = new_fitness\n",
    "                    self.best_solution = new_solution\n",
    "            self.population += np.random.normal(0, 1, (self.pop_size, dim)) * self.c\n",
    "        return self.best_solution"
   ]
  },
  {
   "cell_type": "code",
   "execution_count": null,
   "id": "745199b0-7e71-406b-b402-b50e7d6c59ad",
   "metadata": {},
   "outputs": [],
   "source": [
    "# Define the fitness function\n",
    "def fitness_function(solution, X, y):\n",
    "    selected_features = np.where(solution > 0.5, 1, 0)\n",
    "    if np.sum(selected_features) == 0:\n",
    "        return 0\n",
    "    X_selected = X[:, selected_features == 1]\n",
    "    X_train, X_test, y_train, y_test = train_test_split(X_selected, y, test_size=0.2, random_state=42)\n",
    "    model = Sequential()\n",
    "    model.add(LSTM(64, input_shape=(X_train.shape[1], 1)))\n",
    "    model.add(Dense(1, activation='sigmoid'))\n",
    "    model.compile(optimizer='adam', loss='binary_crossentropy', metrics=['accuracy'])\n",
    "    model.fit(X_train, y_train, epochs=10, batch_size=32, verbose=0)\n",
    "    accuracy = model.evaluate(X_test, y_test, verbose=0)[1]\n",
    "    return accuracy"
   ]
  },
  {
   "cell_type": "code",
   "execution_count": null,
   "id": "0cbd0c73-7c68-4118-818e-50e1dbff936a",
   "metadata": {},
   "outputs": [],
   "source": [
    "# Swish activation function\n",
    "def swish(x):\n",
    "    return x * tf.keras.activations.sigmoid(x)"
   ]
  },
  {
   "cell_type": "code",
   "execution_count": null,
   "id": "c309f31b-db2a-4146-96e4-5983deb18a41",
   "metadata": {},
   "outputs": [],
   "source": [
    "# Building the model using BOA for feature selection and LSTM for prediction\n",
    "def build_model(X, y):\n",
    "    boa = ButterflyOptimizationAlgorithm(fitness_function=fitness_function)\n",
    "    best_solution = boa.optimize(X.shape[1])\n",
    "    selected_features = np.where(best_solution > 0.5, 1, 0)\n",
    "    X_selected = X[:, selected_features == 1]\n",
    "    \n",
    "    X_train, X_test, y_train, y_test = train_test_split(X_selected, y, test_size=0.2, random_state=42)\n",
    "    \n",
    "    model = Sequential()\n",
    "    model.add(LSTM(64, input_shape=(X_train.shape[1], 1)))\n",
    "    model.add(Dense(1, activation=swish))  # Swish activation\n",
    "    model.compile(optimizer=Adam(), loss='binary_crossentropy', metrics=['accuracy'])\n",
    "    model.fit(X_train, y_train, epochs=20, batch_size=32, verbose=1)\n",
    "\n",
    "    # Evaluate the model\n",
    "    y_pred = model.predict(X_test)\n",
    "    y_pred = (y_pred > 0.5).astype(int)\n",
    "    accuracy = accuracy_score(y_test, y_pred)\n",
    "    print(\"Accuracy: \", accuracy)\n",
    "    return model"
   ]
  },
  {
   "cell_type": "code",
   "execution_count": null,
   "id": "d0411f50-3f1d-4b39-8542-35ee105069b0",
   "metadata": {},
   "outputs": [],
   "source": [
    "# Load the dataset\n",
    "dataset = pd.read_csv('dataset.csv')  # Provide the correct path for your dataset\n",
    "X = dataset.drop('Churn Label', axis=1).values\n",
    "y = dataset['Churn Label'].values"
   ]
  },
  {
   "cell_type": "code",
   "execution_count": null,
   "id": "3c29c1d7-3475-4460-87e2-6d9cd6ad18b5",
   "metadata": {},
   "outputs": [],
   "source": [
    "# Normalize the data\n",
    "scaler = StandardScaler()\n",
    "X_scaled = scaler.fit_transform(X)\n",
    "\n",
    "# Build and train the model\n",
    "model = build_model(X_scaled, y)"
   ]
  }
 ],
 "metadata": {
  "kernelspec": {
   "display_name": "Python 3 (ipykernel)",
   "language": "python",
   "name": "python3"
  },
  "language_info": {
   "codemirror_mode": {
    "name": "ipython",
    "version": 3
   },
   "file_extension": ".py",
   "mimetype": "text/x-python",
   "name": "python",
   "nbconvert_exporter": "python",
   "pygments_lexer": "ipython3",
   "version": "3.11.7"
  }
 },
 "nbformat": 4,
 "nbformat_minor": 5
}

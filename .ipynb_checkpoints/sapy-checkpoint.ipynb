{
 "cells": [
  {
   "cell_type": "code",
   "execution_count": 36,
   "id": "70db973d-5761-4154-af5f-3d69c2a04a9b",
   "metadata": {},
   "outputs": [],
   "source": [
    "import pandas as pd\n",
    "import numpy as np\n",
    "from sklearn.preprocessing import LabelEncoder, MinMaxScaler"
   ]
  },
  {
   "cell_type": "code",
   "execution_count": 37,
   "id": "2da6ef59-b7aa-48e0-8e26-2ec3ee0ee2be",
   "metadata": {},
   "outputs": [],
   "source": [
    "# Step 1: Load and Preprocess the Telco Customer Churn Dataset"
   ]
  },
  {
   "cell_type": "code",
   "execution_count": 64,
   "id": "3c591f99-4826-4196-a022-3141335b86c4",
   "metadata": {},
   "outputs": [],
   "source": [
    "# Load and preprocess the dataset\n",
    "def load_data(file_path):\n",
    "    df = pd.read_csv(file_path)\n",
    "    \n",
    "    # Drop columns not needed for preference analysis\n",
    "    if 'Customer ID' in df.columns:\n",
    "        df.drop('Customer ID', axis=1, inplace=True)\n",
    "    \n",
    "    # Handle missing values separately for numeric and categorical columns\n",
    "    numeric_cols = df.select_dtypes(include=[np.number]).columns\n",
    "    categorical_cols = df.select_dtypes(include=['object']).columns\n",
    "    \n",
    "    # Fill missing values for numeric columns with mean\n",
    "    df[numeric_cols] = df[numeric_cols].fillna(df[numeric_cols].mean())\n",
    "    \n",
    "    # Fill missing values for categorical columns with mode\n",
    "    for col in categorical_cols:\n",
    "        df[col].fillna(df[col].mode()[0], inplace=True)\n",
    "    \n",
    "    return df"
   ]
  },
  {
   "cell_type": "code",
   "execution_count": 52,
   "id": "0452b72b-0adb-4097-8554-566d280d6393",
   "metadata": {},
   "outputs": [],
   "source": [
    "# Convert qualitative preferences to numerical values"
   ]
  },
  {
   "cell_type": "code",
   "execution_count": 53,
   "id": "b83562c6-1df6-418a-a61f-7b9a6a4e310d",
   "metadata": {},
   "outputs": [],
   "source": [
    "def quantify_preferences(df):\n",
    "    # Convert categorical columns to numerical values\n",
    "    df['Pref_Comm_Channel'] = df['Preferred Communication Channel'].map({'Email': 1, 'Phone': 2, 'SMS': 3})\n",
    "    df['Pref_Comm_Time'] = df['Preferred Communication Time'].map({'Morning': 1, 'Afternoon': 2, 'Evening': 3, 'Anytime': 4})\n",
    "    df['Pref_Services_Features'] = df['Preferred Services/Features'].map({'International Calling': 1, 'Data Rollover': 2, 'Family Plan': 3})\n",
    "    df['Pref_Payment_Method'] = df['Preferred Payment Method'].map({'Bank Transfer': 1, 'Debit Card': 2, 'Online': 3})\n",
    "    \n",
    "    # Drop original preference columns\n",
    "    df.drop(['Preferred Communication Channel', 'Preferred Communication Time', 'Preferred Services/Features', 'Preferred Payment Method'], axis=1, inplace=True)\n",
    "    \n",
    "    return df"
   ]
  },
  {
   "cell_type": "code",
   "execution_count": 54,
   "id": "e659abc2-4f79-494f-a3a5-d7c1ac968754",
   "metadata": {},
   "outputs": [],
   "source": [
    "# Normalize the data\n",
    "def normalize_data(df):\n",
    "    scaler = MinMaxScaler()\n",
    "    df[df.select_dtypes(include=[np.number]).columns] = scaler.fit_transform(df.select_dtypes(include=[np.number]))\n",
    "    return df"
   ]
  },
  {
   "cell_type": "code",
   "execution_count": 61,
   "id": "1d9ee451-0a4a-4846-bcae-4f91613c1bce",
   "metadata": {},
   "outputs": [],
   "source": [
    "# Define the TOPSIS method with customer preferences and non-preferences\n",
    "def topsis_with_preferences(df, non_pref_criteria, weights):\n",
    "    # Normalize the decision matrix\n",
    "    df_normalized = df[non_pref_criteria] / np.sqrt((df[non_pref_criteria]**2).sum())\n",
    "    \n",
    "    # Apply weights\n",
    "    df_weighted = df_normalized * weights\n",
    "    \n",
    "    # Determine ideal and negative-ideal solutions\n",
    "    ideal_solution = df_weighted.max()\n",
    "    negative_ideal_solution = df_weighted.min()\n",
    "    \n",
    "    # Calculate separation measures\n",
    "    df['distance_to_ideal'] = np.sqrt(((df_weighted - ideal_solution) ** 2).sum(axis=1))\n",
    "    df['distance_to_negative_ideal'] = np.sqrt(((df_weighted - negative_ideal_solution) ** 2).sum(axis=1))\n",
    "    \n",
    "    # Calculate the relative closeness to the ideal solution\n",
    "    df['relative_closeness'] = df['distance_to_negative_ideal'] / (df['distance_to_negative_ideal'] + df['distance_to_ideal'])\n",
    "    \n",
    "    # Rank the service plans\n",
    "    df['rank'] = df['relative_closeness'].rank(ascending=False)\n",
    "    \n",
    "    return df"
   ]
  },
  {
   "cell_type": "code",
   "execution_count": 74,
   "id": "3405db1c-896c-4234-85af-f4b772d15265",
   "metadata": {},
   "outputs": [],
   "source": [
    "# Implement the decision-making process with preferences and non-preferences\n",
    "def decision_making_with_preferences(df, non_pref_criteria, weights):\n",
    "    df_ranked = topsis_with_preferences(df, non_pref_criteria, weights)\n",
    "    \n",
    "    # Map ranks to the service plans (0 to 3)\n",
    "    num_plans = 4\n",
    "    df_ranked['BestService'] = pd.cut(df_ranked['rank'], bins=num_plans, labels=False, include_lowest=True)\n",
    "    \n",
    "    # Map service indices to service names\n",
    "    service_names = {0: 'Basic Plan', 1: 'Standard Plan', 2: 'Premium Plan', 3: 'Ultimate Plan'}\n",
    "    df_ranked['BestServiceName'] = df_ranked['BestService'].map(service_names)\n",
    "    \n",
    "    return df_ranked"
   ]
  },
  {
   "cell_type": "code",
   "execution_count": 75,
   "id": "7f2a3bb8-9f1c-488c-aa12-97ec606d34ac",
   "metadata": {},
   "outputs": [],
   "source": [
    "# Define non-preference criteria and their weights\n",
    "non_pref_criteria = ['Data Usage (GB)', 'Voice Minutes Usage', 'SMS Usage']\n",
    "weights = [0.3, 0.3, 0.4]  #  weights for non-preference criteria"
   ]
  },
  {
   "cell_type": "code",
   "execution_count": 76,
   "id": "02af3ca7-4ebe-4cf5-a720-46d0954ba633",
   "metadata": {},
   "outputs": [],
   "source": [
    "# Load and preprocess dataset\n",
    "df = load_data('dataset.csv')\n",
    "df = quantify_preferences(df)\n",
    "df = normalize_data(df)"
   ]
  },
  {
   "cell_type": "code",
   "execution_count": 77,
   "id": "20d4a3d0-be61-48d0-af5f-2bf8dffb69cd",
   "metadata": {},
   "outputs": [],
   "source": [
    "# Apply decision-making model\n",
    "df_ranked = decision_making_with_preferences(df, non_pref_criteria, weights)"
   ]
  },
  {
   "cell_type": "code",
   "execution_count": 80,
   "id": "12fe7474-cd71-460d-bf31-14cd6ad73ed8",
   "metadata": {},
   "outputs": [
    {
     "name": "stdout",
     "output_type": "stream",
     "text": [
      "   BestService BestServiceName\n",
      "0            1   Standard Plan\n",
      "1            1   Standard Plan\n",
      "2            3   Ultimate Plan\n",
      "3            2    Premium Plan\n",
      "4            0      Basic Plan\n"
     ]
    }
   ],
   "source": [
    "print(df_ranked[['BestService', 'BestServiceName']].head())"
   ]
  },
  {
   "cell_type": "code",
   "execution_count": null,
   "id": "8dfc4d10-1426-41fb-81a6-3ee51bd0da58",
   "metadata": {},
   "outputs": [],
   "source": []
  }
 ],
 "metadata": {
  "kernelspec": {
   "display_name": "Python 3 (ipykernel)",
   "language": "python",
   "name": "python3"
  },
  "language_info": {
   "codemirror_mode": {
    "name": "ipython",
    "version": 3
   },
   "file_extension": ".py",
   "mimetype": "text/x-python",
   "name": "python",
   "nbconvert_exporter": "python",
   "pygments_lexer": "ipython3",
   "version": "3.11.7"
  }
 },
 "nbformat": 4,
 "nbformat_minor": 5
}

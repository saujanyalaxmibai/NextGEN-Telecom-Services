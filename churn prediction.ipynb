{
 "cells": [
  {
   "cell_type": "code",
   "execution_count": 10,
   "id": "3a60ed49",
   "metadata": {},
   "outputs": [],
   "source": [
    "# Required libraries\n",
    "import numpy as np\n",
    "import pandas as pd\n",
    "from sklearn.preprocessing import StandardScaler, OneHotEncoder\n",
    "from sklearn.model_selection import train_test_split\n",
    "from sklearn.metrics import accuracy_score\n",
    "from keras.models import Sequential\n",
    "from keras.layers import Dense, LSTM\n",
    "from keras.optimizers import Adam\n",
    "import tensorflow as tf\n",
    "from keras.utils import register_keras_serializable"
   ]
  },
  {
   "cell_type": "code",
   "execution_count": 3,
   "id": "2807dca2",
   "metadata": {},
   "outputs": [],
   "source": [
    "\n",
    "dataset_path = 'dataset.csv'\n",
    "dataset = pd.read_csv(dataset_path)"
   ]
  },
  {
   "cell_type": "code",
   "execution_count": 4,
   "id": "16801b8d",
   "metadata": {},
   "outputs": [],
   "source": [
    "y = dataset['Churn Label'].values\n",
    "X = dataset.drop(['Churn Label', 'Customer ID'], axis=1)"
   ]
  },
  {
   "cell_type": "code",
   "execution_count": 5,
   "id": "99ad0e9b",
   "metadata": {},
   "outputs": [],
   "source": [
    "categorical_cols = X.select_dtypes(include=['object']).columns\n",
    "X = pd.get_dummies(X, columns=categorical_cols, drop_first=True)"
   ]
  },
  {
   "cell_type": "code",
   "execution_count": 6,
   "id": "8d35526b",
   "metadata": {},
   "outputs": [],
   "source": [
    "scaler = StandardScaler()\n",
    "X_scaled = scaler.fit_transform(X)\n"
   ]
  },
  {
   "cell_type": "code",
   "execution_count": 7,
   "id": "aa641038",
   "metadata": {},
   "outputs": [],
   "source": [
    "class ButterflyOptimizationAlgorithm:\n",
    "    def __init__(self, fitness_function, X, y, pop_size=20, max_iter=100, a=0.01, c=0.1):\n",
    "        self.fitness_function = fitness_function\n",
    "        self.X = X\n",
    "        self.y = y\n",
    "        self.pop_size = pop_size\n",
    "        self.max_iter = max_iter\n",
    "        self.a = a\n",
    "        self.c = c\n",
    "        self.population = None\n",
    "        self.best_solution = None\n",
    "        self.best_fitness = -np.inf\n",
    "\n",
    "    def initialize_population(self, dim):\n",
    "        self.population = np.random.rand(self.pop_size, dim)\n",
    "\n",
    "    def optimize(self, dim):\n",
    "        self.initialize_population(dim)\n",
    "        for iter in range(self.max_iter):\n",
    "            for i in range(self.pop_size):\n",
    "                new_solution = self.population[i] + np.random.normal(0, 1, dim) * self.a\n",
    "                new_fitness = self.fitness_function(new_solution, self.X, self.y)  # Pass X and y to the fitness function\n",
    "                if new_fitness > self.best_fitness:\n",
    "                    self.best_fitness = new_fitness\n",
    "                    self.best_solution = new_solution\n",
    "            self.population += np.random.normal(0, 1, (self.pop_size, dim)) * self.c\n",
    "        return self.best_solution"
   ]
  },
  {
   "cell_type": "code",
   "execution_count": 8,
   "id": "e82527d2",
   "metadata": {},
   "outputs": [],
   "source": [
    "def fitness_function(solution, X, y):\n",
    "    selected_features = np.where(solution > 0.5, 1, 0)\n",
    "    if np.sum(selected_features) == 0:\n",
    "        return 0\n",
    "    X_selected = X[:, selected_features == 1]\n",
    "    X_train, X_test, y_train, y_test = train_test_split(X_selected, y, test_size=0.2, random_state=42)\n",
    "    model = Sequential()\n",
    "    model.add(LSTM(64, input_shape=(X_train.shape[1], 1)))\n",
    "    model.add(Dense(1, activation='sigmoid'))\n",
    "    model.compile(optimizer='adam', loss='binary_crossentropy', metrics=['accuracy'])\n",
    "    model.fit(X_train, y_train, epochs=40, batch_size=32, verbose=0)\n",
    "    accuracy = model.evaluate(X_test, y_test, verbose=0)[1]\n",
    "    return accuracy"
   ]
  },
  {
   "cell_type": "code",
   "execution_count": 11,
   "id": "2cd438f7",
   "metadata": {},
   "outputs": [],
   "source": [
    "\n",
    "@register_keras_serializable()\n",
    "def swish(x):\n",
    "    return x * tf.keras.activations.sigmoid(x)\n"
   ]
  },
  {
   "cell_type": "code",
   "execution_count": 12,
   "id": "43160ec9",
   "metadata": {},
   "outputs": [],
   "source": [
    "def build_model(X, y):\n",
    "    boa = ButterflyOptimizationAlgorithm(fitness_function=fitness_function, X=X, y=y)\n",
    "    best_solution = boa.optimize(X.shape[1])\n",
    "    selected_features = np.where(best_solution > 0.5, 1, 0)\n",
    "    X_selected = X[:, selected_features == 1]\n",
    "    \n",
    "    X_train, X_test, y_train, y_test = train_test_split(X_selected, y, test_size=0.2, random_state=42)\n",
    "    \n",
    "    model = Sequential()\n",
    "    model.add(LSTM(64, input_shape=(X_train.shape[1], 1)))\n",
    "    model.add(Dense(1, activation=swish))  # Swish activation\n",
    "    model.compile(optimizer=Adam(), loss='binary_crossentropy', metrics=['accuracy'])\n",
    "    model.fit(X_train, y_train, epochs=60, batch_size=32, verbose=1)\n",
    "\n",
    "    y_pred = model.predict(X_test)\n",
    "    y_pred = (y_pred > 0.5).astype(int)\n",
    "    accuracy = accuracy_score(y_test, y_pred)\n",
    "    print(\"Accuracy: \", accuracy)\n",
    "    return model"
   ]
  },
  {
   "cell_type": "code",
   "execution_count": 26,
   "id": "4ec4ddc7",
   "metadata": {},
   "outputs": [
    {
     "name": "stderr",
     "output_type": "stream",
     "text": [
      "c:\\Users\\syedf\\anaconda3\\envs\\sapy\\Lib\\site-packages\\keras\\src\\layers\\rnn\\rnn.py:204: UserWarning: Do not pass an `input_shape`/`input_dim` argument to a layer. When using Sequential models, prefer using an `Input(shape)` object as the first layer in the model instead.\n",
      "  super().__init__(**kwargs)\n"
     ]
    }
   ],
   "source": [
    "\n",
    "# Build and train the model\n",
    "model = build_model(X_scaled, y)\n",
    "model_save_path = 'trained_churn_model_v2.keras'\n",
    "model.save(model_save_path)"
   ]
  }
 ],
 "metadata": {
  "kernelspec": {
   "display_name": "Python 3 (ipykernel)",
   "language": "python",
   "name": "python3"
  },
  "language_info": {
   "codemirror_mode": {
    "name": "ipython",
    "version": 3
   },
   "file_extension": ".py",
   "mimetype": "text/x-python",
   "name": "python",
   "nbconvert_exporter": "python",
   "pygments_lexer": "ipython3",
   "version": "3.12.4"
  }
 },
 "nbformat": 4,
 "nbformat_minor": 5
}
